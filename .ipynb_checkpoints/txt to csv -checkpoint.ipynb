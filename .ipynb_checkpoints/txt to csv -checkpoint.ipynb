{
 "cells": [
  {
   "cell_type": "code",
   "execution_count": 1,
   "metadata": {},
   "outputs": [],
   "source": [
    "#method 1 data parse to csv file\n",
    "from numpy import arange\n",
    "\n",
    "fitness_list = arange(1, 50, 2)\n",
    "trait1_list = arange(0, 250, 10) # data 1 \n",
    "trait2_list = arange(150, 0, -6) # data 2\n",
    "trait3_list = arange(150, 0, -6) # data 3\n",
    "trait4_list = arange(150, 0, -6) # data 4\n",
    "\n",
    "replicate = 5\n",
    "\n",
    "with open(\"output_data\" + str(replicate) + \".csv\", \"w\") as out_file:\n",
    "    for i in range(len(fitness_list)):\n",
    "        out_string = \"\"\n",
    "        out_string += str(fitness_list[i])\n",
    "        out_string += \",\" + str(trait1_list[i])\n",
    "        out_string += \",\" + str(trait2_list[i])\n",
    "        out_string += \"\\n\"\n",
    "        out_file.write(out_string)\n",
    "        "
   ]
  },
  {
   "cell_type": "code",
   "execution_count": 2,
   "metadata": {},
   "outputs": [],
   "source": [
    "!ls output_*"
   ]
  },
  {
   "cell_type": "code",
   "execution_count": 3,
   "metadata": {},
   "outputs": [
    {
     "name": "stdout",
     "output_type": "stream",
     "text": [
      "output_data5.csv\n"
     ]
    }
   ],
   "source": [
    "#method 2 data parse to txt file"
   ]
  },
  {
   "cell_type": "code",
   "execution_count": 9,
   "metadata": {},
   "outputs": [],
   "source": [
    "replicate = 5\n",
    "\n",
    "f=open(\"output_data\" + str(replicate) + \".txt\", \"w+\")"
   ]
  },
  {
   "cell_type": "code",
   "execution_count": 10,
   "metadata": {},
   "outputs": [],
   "source": [
    "for i in range(10):\n",
    "         f.write(\"This is line %d\\r\\n\" % (i+1))\n",
    "f.close() "
   ]
  },
  {
   "cell_type": "code",
   "execution_count": null,
   "metadata": {},
   "outputs": [],
   "source": []
  }
 ],
 "metadata": {
  "kernelspec": {
   "display_name": "Python 3",
   "language": "python",
   "name": "python3"
  },
  "language_info": {
   "codemirror_mode": {
    "name": "ipython",
    "version": 3
   },
   "file_extension": ".py",
   "mimetype": "text/x-python",
   "name": "python",
   "nbconvert_exporter": "python",
   "pygments_lexer": "ipython3",
   "version": "3.7.4"
  }
 },
 "nbformat": 4,
 "nbformat_minor": 2
}
